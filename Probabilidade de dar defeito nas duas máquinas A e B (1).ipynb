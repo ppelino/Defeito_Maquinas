{
 "cells": [
  {
   "cell_type": "markdown",
   "id": "b821a629",
   "metadata": {},
   "source": [
    "Situação:\n",
    "\n",
    "Em uma fábrica, existem dois tipos de máquinas (Máquina A e Máquina B) que são utilizadas na produção de peças. Durante uma inspeção de segurança, foi observado que 5% das peças produzidas pela Máquina A apresentam defeitos, enquanto 8% das peças produzidas pela Máquina B são defeituosas. A fábrica produz, em média, 60% das peças totais com a Máquina A e 40% com a Máquina B.\n",
    "\n",
    "Questão:\n",
    "\n",
    "Considerando esse contexto, um trabalhador seleciona aleatoriamente uma peça da linha de produção e observa que a peça está defeituosa. Qual é a probabilidade de essa peça defeituosa ter sido produzida pela Máquina A, utilizando o Teorema de Bayes?"
   ]
  },
  {
   "cell_type": "code",
   "execution_count": 3,
   "id": "4696a3e8",
   "metadata": {},
   "outputs": [
    {
     "name": "stdout",
     "output_type": "stream",
     "text": [
      "A probabilidade de uma peça defeituosa ser da Máquina A é aproximadamente: 48.39%\n"
     ]
    }
   ],
   "source": [
    "# Cálculo de Probabilidade com Teorema de Bayes em Python\n",
    "\n",
    "# Probabilidades fornecidas no enunciado\n",
    "P_A = 0.60  # Probabilidade de a peça ser da Máquina A\n",
    "P_B = 0.40  # Probabilidade de a peça ser da Máquina B\n",
    "P_D_A = 0.05  # Probabilidade de a peça ser defeituosa dado que foi produzida pela Máquina A\n",
    "P_D_B = 0.08  # Probabilidade de a peça ser defeituosa dado que foi produzida pela Máquina B\n",
    "\n",
    "# Calculando P(D), a probabilidade de uma peça ser defeituosa\n",
    "P_D = P_D_A * P_A + P_D_B * P_B\n",
    "\n",
    "# Calculando P(A|D), a probabilidade de a peça ser da Máquina A dado que é defeituosa\n",
    "P_A_D = (P_D_A * P_A) / P_D\n",
    "\n",
    "# Imprimindo o resultado\n",
    "print(f\"A probabilidade de uma peça defeituosa ser da Máquina A é aproximadamente: {P_A_D * 100:.2f}%\")\n"
   ]
  },
  {
   "cell_type": "markdown",
   "id": "3d4abfe3",
   "metadata": {},
   "source": [
    "Situação:\n",
    "\n",
    "Em uma fábrica, existem dois tipos de máquinas (Máquina A e Máquina B) que são utilizadas na produção de peças. Durante uma inspeção de segurança, foi observado que 5% das peças produzidas pela Máquina A apresentam defeitos, enquanto 8% das peças produzidas pela Máquina B são defeituosas. A fábrica produz, em média, 60% das peças totais com a Máquina A e 40% com a Máquina B.\n",
    "\n",
    "Questão:\n",
    "\n",
    "Considerando esse contexto, um trabalhador seleciona aleatoriamente uma peça da linha de produção e observa que a peça está defeituosa. Qual é a probabilidade de essa peça defeituosa ter sido produzida pela Máquina B, utilizando o Teorema de Bayes?"
   ]
  },
  {
   "cell_type": "code",
   "execution_count": 4,
   "id": "13591aa2",
   "metadata": {},
   "outputs": [
    {
     "name": "stdout",
     "output_type": "stream",
     "text": [
      "A probabilidade de uma peça defeituosa ser da Máquina B é aproximadamente: 51.61%\n"
     ]
    }
   ],
   "source": [
    "# Cálculo de Probabilidade com Teorema de Bayes em Python para Máquina B\n",
    "\n",
    "# Probabilidades fornecidas no enunciado\n",
    "P_A = 0.60  # Probabilidade de a peça ser da Máquina A\n",
    "P_B = 0.40  # Probabilidade de a peça ser da Máquina B\n",
    "P_D_A = 0.05  # Probabilidade de a peça ser defeituosa dado que foi produzida pela Máquina A\n",
    "P_D_B = 0.08  # Probabilidade de a peça ser defeituosa dado que foi produzida pela Máquina B\n",
    "\n",
    "# Calculando P(D), a probabilidade de uma peça ser defeituosa\n",
    "P_D = P_D_A * P_A + P_D_B * P_B\n",
    "\n",
    "# Calculando P(B|D), a probabilidade de a peça ser da Máquina B dado que é defeituosa\n",
    "P_B_D = (P_D_B * P_B) / P_D\n",
    "\n",
    "# Imprimindo o resultado\n",
    "print(f\"A probabilidade de uma peça defeituosa ser da Máquina B é aproximadamente: {P_B_D * 100:.2f}%\")\n"
   ]
  },
  {
   "cell_type": "code",
   "execution_count": null,
   "id": "73e1213b",
   "metadata": {},
   "outputs": [],
   "source": []
  }
 ],
 "metadata": {
  "kernelspec": {
   "display_name": "Python 3 (ipykernel)",
   "language": "python",
   "name": "python3"
  },
  "language_info": {
   "codemirror_mode": {
    "name": "ipython",
    "version": 3
   },
   "file_extension": ".py",
   "mimetype": "text/x-python",
   "name": "python",
   "nbconvert_exporter": "python",
   "pygments_lexer": "ipython3",
   "version": "3.11.5"
  }
 },
 "nbformat": 4,
 "nbformat_minor": 5
}
